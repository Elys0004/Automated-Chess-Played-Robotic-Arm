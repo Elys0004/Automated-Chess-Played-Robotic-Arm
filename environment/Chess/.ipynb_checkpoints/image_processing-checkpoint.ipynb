{
 "cells": [
  {
   "cell_type": "code",
   "execution_count": 34,
   "metadata": {},
   "outputs": [],
   "source": [
    "def chessboard(image):\n",
    "    x = 0\n",
    "    y = 0\n",
    "    points = np.zeros((9,9,2))\n",
    "    for i in range(9):\n",
    "        for j in range(9):\n",
    "            x = i * 100\n",
    "            y = j * 100\n",
    "            points[i][j][0] = x\n",
    "            points[i][j][1] = y\n",
    "    boxes = np.zeros((9,9,4))\n",
    "    for i in range(8):\n",
    "        for j in range(8):  \n",
    "            boxes[i][j][0] = points[i][j][0]\n",
    "            boxes[i][j][1] = points[i][j][1]\n",
    "            boxes[i][j][2] = points[i+1][j+1][0]\n",
    "            boxes[i][j][3] = points[i+1][j+1][1]\n",
    "    for i in range(8):\n",
    "        for j in range(8):\n",
    "            box1= boxes [i,j]\n",
    "            cv2.rectangle(image, (int(box1[0]),int(box1[1])),(int(box1[2]),int(box1[3])), (255,0,0), 2)\n",
    "            cv2.putText(image,\"({},{})\".format(i,j),(int(box1[2])-70, int(box1[3])-50),cv2.FONT_HERSHEY_SIMPLEX,0.5,(0,0,255),2)\n",
    "    return boxes, points"
   ]
  },
  {
   "cell_type": "code",
   "execution_count": 44,
   "metadata": {},
   "outputs": [],
   "source": [
    "def contour(image,imagemove):    \n",
    "    image_diff = cv2.absdiff(image,imagemove)\n",
    "    image_diff_gray = cv2.cvtColor(image_diff,cv2.COLOR_BGR2GRAY)\n",
    "    matrix,threshold=  cv2.threshold(image_diff_gray,10,255,cv2.THRESH_BINARY) #turn into binary image (become 255 and 0)\n",
    "    im2,cntrs,hierarchy = cv2.findContours(threshold, cv2.RETR_EXTERNAL,cv2.CHAIN_APPROX_SIMPLE) #find the counter of each part that have different contrast(the binary that have been made with the threshold)\n",
    "    return im2, cntrs, hierarchy, image_diff"
   ]
  },
  {
   "cell_type": "code",
   "execution_count": 3,
   "metadata": {},
   "outputs": [],
   "source": [
    "def chessmove_mid(cntrs,image_diff):\n",
    "    if len(cntrs) >= 2:\n",
    "        required_contoures_mid_point = []\n",
    "        for c in cntrs:\n",
    "            area = cv2.contourArea(c)\n",
    "            if area> 500:\n",
    "                (x, y, w, h) = cv2.boundingRect(c)\n",
    "                required_contoures_mid_point.append([x+int(w/2),y+int(h/2)])\n",
    "                cv2.rectangle(image_diff, (x, y), (x + w, y + h), (0, 0, 255), 2)\n",
    "    return required_contoures_mid_point\n",
    "    "
   ]
  },
  {
   "cell_type": "code",
   "execution_count": 4,
   "metadata": {},
   "outputs": [],
   "source": [
    "def board_reset():\n",
    "    fen_line = \"rnbqkbnr/pppppppp/8/8/8/8/PPPPPPPP/RNBQKBNR w KQkq - 0 1\"\n",
    "    chess_board = []\n",
    "    current_player_bool_position = []\n",
    "    for row in fen_line.split(' ')[0].split('/'):\n",
    "        bool_row = []\n",
    "        chess_row = []\n",
    "        for cell in list(row):\n",
    "            if cell.isnumeric():\n",
    "                for i in range(int(cell)):\n",
    "                    chess_row.append(str(1))\n",
    "                    bool_row.append(0)\n",
    "            else:\n",
    "                chess_row.append(cell)\n",
    "                bool_row.append(1)\n",
    "        chess_board.append(chess_row)\n",
    "        current_player_bool_position.append(bool_row)\n",
    "    chessposition = np.array(chess_board)\n",
    "    current_player_bool_position = np.array(current_player_bool_position)\n",
    "    return chessposition, current_player_bool_position"
   ]
  },
  {
   "cell_type": "code",
   "execution_count": 5,
   "metadata": {},
   "outputs": [],
   "source": [
    "def fenboard(fen_line):\n",
    "    chess_board = []\n",
    "    current_player_bool_position = []\n",
    "    for row in fen_line.split(' ')[0].split('/'):\n",
    "        bool_row = []\n",
    "        chess_row = []\n",
    "        for cell in list(row):\n",
    "            if cell.isnumeric():\n",
    "                for i in range(int(cell)):\n",
    "                    chess_row.append(str(1))\n",
    "                    bool_row.append(0)\n",
    "            else:\n",
    "                chess_row.append(cell)\n",
    "                bool_row.append(1)\n",
    "        chess_board.append(chess_row)\n",
    "        current_player_bool_position.append(bool_row)\n",
    "    chessposition = np.array(chess_board)\n",
    "    current_player_bool_position = np.array(current_player_bool_position)\n",
    "    return chessposition, current_player_bool_position\n",
    "    "
   ]
  },
  {
   "cell_type": "code",
   "execution_count": 12,
   "metadata": {},
   "outputs": [],
   "source": [
    "def movement(chessposition, key1, key2,x,y,x1,y1):\n",
    "    movement = 0\n",
    "    \n",
    "    for i in \"RNQKBP\": \n",
    "            if chessposition[y,x] == '1' and movement ==0:\n",
    "                print(key2, \"move to\", key1)\n",
    "                movement = 1\n",
    "                a = chessposition[y1,x1]\n",
    "                b = key1\n",
    "                chessposition[y1,x1]= chessposition[y,x]\n",
    "                chessposition[y,x] = a\n",
    "            elif chessposition[y1,x1] == i:\n",
    "                print(key1, \"eating\",key2)\n",
    "                movement = 1\n",
    "                a = chessposition[y,x]\n",
    "                b = key2\n",
    "                chessposition[y1,x1]= chessposition[y,x]\n",
    "                chessposition[y,x] = 1\n",
    "            elif chessposition[y,x] == i:\n",
    "                print(key2, \"eating\", key1)\n",
    "                movement = 1\n",
    "                a = chessposition[y1,x1]\n",
    "                b = key1\n",
    "                chessposition[y,x]= chessposition[y1,x1]\n",
    "                chessposition[y1,x1] = 1\n",
    "    if movement == 0:\n",
    "        print(key1, \"move to\",key2)\n",
    "        a = chessposition[y,x]\n",
    "        b = key2\n",
    "        chessposition[y,x]= chessposition[y1,x1]\n",
    "        chessposition[y1,x1] = a\n",
    "    return a,b\n"
   ]
  },
  {
   "cell_type": "code",
   "execution_count": 7,
   "metadata": {},
   "outputs": [],
   "source": [
    "def get_key(val):\n",
    "    map_position = {}\n",
    "    x,y = 0,0\n",
    "    for i in \"abcdefgh\":\n",
    "        for j in \"87654321\":\n",
    "            map_position[i+j]= [x,y]\n",
    "            y = (y+1)%8\n",
    "        x = (x+1)%8\n",
    "    for key, value in map_position.items():\n",
    "            if val[0] == value:\n",
    "                key1 = key\n",
    "    for key, value in map_position.items():\n",
    "            if val[1] == value:\n",
    "                key2 = key\n",
    "                return key1,key2\n",
    "    return \"key doesn't exist\""
   ]
  },
  {
   "cell_type": "code",
   "execution_count": 8,
   "metadata": {},
   "outputs": [],
   "source": [
    "def midrange(midpoint,points):\n",
    "    for j in range(8):\n",
    "                if points[1][j][1] < midpoint[0][1] < points[1][j+1][1]:\n",
    "                    yleft = points[1][j][1]\n",
    "                    yright= points[1][j+1][1]\n",
    "    for i in range(8):\n",
    "                if points[i][1][0] < midpoint[0][0] < points[i+1][1][0]:\n",
    "                    xleft = points[i][1][0]\n",
    "                    xright = points[i+1][1][0]\n",
    "                    \n",
    "    for j in range(8):\n",
    "                if points[1][j][1] < midpoint[1][1] < points[1][j+1][1]:\n",
    "                    y1left = points[1][j][1]\n",
    "                    y1right= points[1][j+1][1]\n",
    "    for i in range(8):\n",
    "                if points[i][1][0] < midpoint[1][0] < points[i+1][1][0]:\n",
    "                    x1left = points[i][1][0]\n",
    "                    x1right = points[i+1][1][0]\n",
    "    return yleft, yright, xleft, xright, y1left, y1right, x1left, x1right "
   ]
  },
  {
   "cell_type": "code",
   "execution_count": 41,
   "metadata": {},
   "outputs": [],
   "source": [
    "def which_box(boxes,yleft, yright, xleft, xright, y1left, y1right, x1left, x1right):\n",
    "    val = []\n",
    "    for i in range(8):\n",
    "        for j in range(8): \n",
    "            if xleft == boxes[i][j][0] and xright == boxes[i][j][2] and yleft == boxes[i][j][1] and yright == boxes[i][j][3]:\n",
    "                x = i\n",
    "                y = j\n",
    "                val.append([x,y])\n",
    "            \n",
    "    for i in range(8):\n",
    "        for j in range(8): \n",
    "            if x1left == boxes[i][j][0] and x1right == boxes[i][j][2] and y1left == boxes[i][j][1] and y1right == boxes[i][j][3]:\n",
    "                x1 = i\n",
    "                y1 = j\n",
    "                val.append([x1,y1])\n",
    "            \n",
    "    return val,x,y,x1,y1"
   ]
  },
  {
   "cell_type": "code",
   "execution_count": 42,
   "metadata": {},
   "outputs": [],
   "source": [
    "def output(a,b):\n",
    "    if a == \"p\":\n",
    "        a = ''\n",
    "    return a+b"
   ]
  },
  {
   "cell_type": "code",
   "execution_count": 45,
   "metadata": {},
   "outputs": [
    {
     "name": "stdout",
     "output_type": "stream",
     "text": [
      "f7 move to f6\n",
      "f6\n"
     ]
    },
    {
     "data": {
      "text/plain": [
       "array([['r', 'n', 'b', 'q', 'k', 'b', 'n', 'r'],\n",
       "       ['p', 'p', 'p', 'p', 'p', '1', 'p', 'p'],\n",
       "       ['1', '1', '1', '1', '1', 'p', '1', '1'],\n",
       "       ['1', '1', '1', '1', '1', '1', '1', '1'],\n",
       "       ['1', '1', '1', '1', '1', '1', '1', '1'],\n",
       "       ['1', '1', '1', '1', '1', '1', '1', '1'],\n",
       "       ['P', 'P', 'P', 'P', 'P', 'P', 'P', 'P'],\n",
       "       ['R', 'N', 'B', 'Q', 'K', 'B', 'N', 'R']], dtype='<U1')"
      ]
     },
     "execution_count": 45,
     "metadata": {},
     "output_type": "execute_result"
    }
   ],
   "source": [
    "import cv2\n",
    "import os\n",
    "import numpy as np\n",
    "import matplotlib.pyplot as plt\n",
    "\n",
    "imagel = cv2.imread('chess.jpg')\n",
    "imagemove= cv2.imread('chessmove.jpg')\n",
    "\n",
    "\n",
    "\n",
    "\n",
    "im2, cntrs, hierarchy, image_diff= contour(imagel,imagemove)\n",
    "\n",
    "midpoint = chessmove_mid(cntrs,imagel)\n",
    "\n",
    "boxes, points =chessboard(imagel)\n",
    "\n",
    "yleft, yright, xleft, xright, y1left, y1right, x1left, x1right= midrange(midpoint,points)\n",
    "\n",
    "val,x,y,x1,y1 =which_box(boxes,yleft, yright, xleft, xright, y1left, y1right, x1left, x1right)\n",
    "\n",
    "key1, key2 = get_key(val)\n",
    "\n",
    "fen_line = \"rnbqkbnr/pppppppp/8/8/8/8/PPPPPPPP/RNBQKBNR w KQkq - 0 1\"\n",
    "\n",
    "chessposition,b = fenboard(fen_line)\n",
    "chessposition\n",
    "a,b = movement(chessposition,key1,key2,x,y,x1,y1)\n",
    "print(output(a,b))\n",
    "\n",
    "chessposition"
   ]
  },
  {
   "cell_type": "code",
   "execution_count": null,
   "metadata": {},
   "outputs": [],
   "source": []
  },
  {
   "cell_type": "code",
   "execution_count": null,
   "metadata": {},
   "outputs": [],
   "source": []
  },
  {
   "cell_type": "code",
   "execution_count": null,
   "metadata": {},
   "outputs": [],
   "source": []
  },
  {
   "cell_type": "code",
   "execution_count": null,
   "metadata": {},
   "outputs": [],
   "source": []
  },
  {
   "cell_type": "code",
   "execution_count": null,
   "metadata": {},
   "outputs": [],
   "source": []
  },
  {
   "cell_type": "code",
   "execution_count": 40,
   "metadata": {},
   "outputs": [],
   "source": [
    "row = fen_line.split(' ')[0].split('/')"
   ]
  },
  {
   "cell_type": "code",
   "execution_count": null,
   "metadata": {},
   "outputs": [],
   "source": []
  },
  {
   "cell_type": "code",
   "execution_count": null,
   "metadata": {},
   "outputs": [],
   "source": []
  },
  {
   "cell_type": "code",
   "execution_count": null,
   "metadata": {},
   "outputs": [],
   "source": []
  }
 ],
 "metadata": {
  "kernelspec": {
   "display_name": "Python 3",
   "language": "python",
   "name": "python3"
  },
  "language_info": {
   "codemirror_mode": {
    "name": "ipython",
    "version": 3
   },
   "file_extension": ".py",
   "mimetype": "text/x-python",
   "name": "python",
   "nbconvert_exporter": "python",
   "pygments_lexer": "ipython3",
   "version": "3.7.4"
  }
 },
 "nbformat": 4,
 "nbformat_minor": 2
}
